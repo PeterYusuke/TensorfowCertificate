{
 "cells": [
  {
   "cell_type": "markdown",
   "id": "ddb7b1cc",
   "metadata": {},
   "source": [
    "# Do Skimlit project"
   ]
  },
  {
   "cell_type": "markdown",
   "id": "59f64c7a",
   "metadata": {},
   "source": [
    "### First, change text data into readable table data"
   ]
  },
  {
   "cell_type": "code",
   "execution_count": 35,
   "id": "784075cc",
   "metadata": {},
   "outputs": [],
   "source": [
    "import os\n",
    "import pandas as pd\n",
    "import numpy as np\n",
    "import tensorflow as tf"
   ]
  },
  {
   "cell_type": "code",
   "execution_count": 70,
   "id": "d4e6f242",
   "metadata": {},
   "outputs": [],
   "source": [
    "# Const variables\n",
    "\n",
    "# pass\n",
    "DIR_200K = \"dataset/pubmed-rct/PubMed_200k_RCT\"\n",
    "DIR_200K_replaced_nums = \"dataset/pubmed-rct/PubMed_200k_RCT_numbers_replaced_with_at_sign\"\n",
    "DIR_20K = \"dataset/pubmed-rct/PubMed_20k_RCT\"\n",
    "DIR_20K_replaced_nums = \"dataset/pubmed-rct/PubMed_200k_RCT_numbers_replaced_with_at_sign\"\n",
    "\n",
    "DEV_TXT = 'dev.txt'\n",
    "TEST_TXT = 'test.txt'\n",
    "TRAIN_TXT = 'train.txt'\n",
    "TRAIN_ZIP = 'train.zip'"
   ]
  },
  {
   "cell_type": "code",
   "execution_count": 37,
   "id": "4e47b5eb",
   "metadata": {},
   "outputs": [
    {
     "data": {
      "text/plain": [
       "['###24290286\\n',\n",
       " 'BACKGROUND\\tIgE sensitization to Aspergillus fumigatus and a positive sputum fungal culture result are common in patients with refractory asthma .\\n',\n",
       " 'BACKGROUND\\tIt is not clear whether these patients would benefit from antifungal treatment .\\n',\n",
       " 'OBJECTIVE\\tWe sought to determine whether a 3-month course of voriconazole improved asthma-related outcomes in patients with asthma who are IgE sensitized to A fumigatus .\\n',\n",
       " 'METHODS\\tAsthmatic patients who were IgE sensitized to A fumigatus with a history of at least 2 severe exacerbations in the previous 12 months were treated for 3 months with 200 mg of voriconazole twice daily , followed by observation for 9 months , in a double-blind , placebo-controlled , randomized design .\\n',\n",
       " 'METHODS\\tPrimary outcomes were improvement in quality of life at the end of the treatment period and a reduction in the number of severe exacerbations over the 12 months of the study .\\n',\n",
       " 'RESULTS\\tSixty-five patients were randomized .\\n',\n",
       " 'RESULTS\\tFifty-nine patients started treatment ( 32 receiving voriconazole and 27 receiving placebo ) and were included in an intention-to-treat analysis .\\n',\n",
       " 'RESULTS\\tFifty-six patients took the full 3 months of medication .\\n',\n",
       " 'RESULTS\\tBetween the voriconazole and placebo groups , there were no significant differences in the number of severe exacerbations ( 1.16 vs 1.41 per patient per year , respectively ; mean difference , 0.25 ; 95 % CI , 0.19-0 .31 ) , quality of life ( change in Asthma Quality of Life Questionnaire score , 0.68 vs 0.88 ; mean difference between groups , 0.2 ; 95 % CI , -0.05 to -0.11 ) , or any of our secondary outcome measures .\\n',\n",
       " 'CONCLUSIONS\\tWe were unable to show a beneficial effect of 3 months of treatment with voriconazole in patients with moderate-to-severe asthma who were IgE sensitized to A fumigatus on either the rate of severe exacerbations , quality of life , or other markers of asthma control .\\n',\n",
       " '\\n',\n",
       " '###24464531\\n',\n",
       " 'BACKGROUND\\tOpioid antagonists ( e.g. , naltrexone ) and positive modulators of - aminobutyric-acidA ( GABAA ) receptors ( e.g. , alprazolam ) modestly attenuate the abuse-related effects of stimulants like amphetamine .\\n',\n",
       " 'BACKGROUND\\tThe use of higher doses to achieve greater efficacy is precluded by side effects .\\n',\n",
       " 'BACKGROUND\\tCombining naltrexone and alprazolam might safely maximize efficacy while avoiding the untoward effects of the constituent compounds .\\n',\n",
       " 'OBJECTIVE\\tThe present pilot study tested the hypothesis that acute pretreatment with the combination of naltrexone and alprazolam would not produce clinically problematic physiological effects or negative subjective effects and would reduce the positive subjective effects of d-amphetamine to a greater extent than the constituent drugs alone .\\n',\n",
       " 'METHODS\\tEight nontreatment-seeking , stimulant-using individuals completed an outpatient experiment in which oral d-amphetamine ( 0 , 15 , and 30 mg ) was administered following acute pretreatment with naltrexone ( 0 and 50 mg ) and alprazolam ( 0 and 0.5 mg ) .\\n',\n",
       " 'METHODS\\tSubjective effects , psychomotor task performance , and physiological measures were collected .\\n',\n",
       " 'RESULTS\\tOral d-amphetamine produced prototypical physiological and stimulant-like positive subjective effects ( e.g. , VAS ratings of Active/Alert/Energetic , Good Effect , and High ) .\\n']"
      ]
     },
     "execution_count": 37,
     "metadata": {},
     "output_type": "execute_result"
    }
   ],
   "source": [
    "with open(os.path.join(DIR_20K, DEV_TXT), 'r') as f:\n",
    "    text = f.readlines()\n",
    "text[:20]"
   ]
  },
  {
   "cell_type": "markdown",
   "id": "6be82743",
   "metadata": {},
   "source": [
    "Reading the lines from the training text file results in a list of strings containing different abstract samples, the sentences in a sample along with the role the sentence plays in the abstract.\n",
    "\n",
    "The role of each sentence is prefixed at the start of each line separated by a tab (\\t) and each sentence finishes with a new line (\\n).\n",
    "\n",
    "Different abstracts are separated by abstract ID's (lines beginning with ###) and newlines (\\n).\n",
    "\n",
    "Knowing this, it looks like we've got a couple of steps to do to get our samples ready to pass as training data to our future machine learning model.\n",
    "\n",
    "Let's write a function to perform the following steps:\n",
    "\n",
    "* Take a target file of abstract samples.\n",
    "* Read the lines in the target file.\n",
    "* For each line in the target file:\n",
    "    * If the line begins with ### mark it as an abstract ID and the beginning of a new abstract.\n",
    "        * Keep count of the number of lines in a sample.\n",
    "    * If the line begins with \\n mark it as the end of an abstract sample.\n",
    "        * Keep count of the total lines in a sample.\n",
    "    * Record the text before the \\t as the label of the line.\n",
    "    * Record the text after the \\t as the text of the line.\n",
    "* Return all of the lines in the target text file as a list of dictionaries containing the key/value pairs:\n",
    "    * `\"ID\"` - the ID of text\n",
    "    * `\"line_number\"` - the position of the line in the abstract (e.g. `3`).\n",
    "    * `\"target\"` - the role of the line in the abstract (e.g. `OBJECTIVE`).\n",
    "    * `\"text\"` - the text of the line in the abstract.\n",
    "    * `\"total_lines\"` - the total lines in an abstract sample (e.g. `14`).\n",
    "* Abstract ID's and newlines should be omitted from the returned preprocessed data."
   ]
  },
  {
   "cell_type": "markdown",
   "id": "082d93eb",
   "metadata": {},
   "source": [
    "Create dataset like this.\n",
    "\n",
    "| ID     | line_number | discourse_type | discourse_text | total_lines\n",
    "| :--- | :--- | :--- | :--- | :--- |\n",
    "| 24290286 | 0 | BACKGROUND | IgE sensitization to Aspergillus fumigatus and a positive sputum fungal culture result are common in patients with refractory asthma . | 10 |\n"
   ]
  },
  {
   "cell_type": "code",
   "execution_count": 38,
   "id": "5957faa8",
   "metadata": {},
   "outputs": [],
   "source": [
    "# text data\n",
    "ID_STR = \"###\"\n",
    "RETURN = \"\\n\"\n",
    "TAB = \"\\t\"\n",
    "\n",
    "# Labels Const\n",
    "LABEL_ID = \"ID\"\n",
    "LABEL_LINE_NUM = \"line_number\"\n",
    "LABEL_TYPE = \"discourse_type\"\n",
    "LABEL_TEXT = \"discourse_text\"\n",
    "LABEL_TOTAL_LINE_NUM = \"total_lines\"\n",
    "LABEL_DATA = \"data\""
   ]
  },
  {
   "cell_type": "code",
   "execution_count": 58,
   "id": "454f5bcd",
   "metadata": {},
   "outputs": [],
   "source": [
    "def create_dataset(text_data):\n",
    "    train_text = []  # return value \n",
    "    \n",
    "    sentence_id = ''  # ID\n",
    "    line_text = []    # each line data\n",
    "    line_index = 0    # each line_index\n",
    "    line_total = 0    # sentence line count \n",
    "    \n",
    "    # loop through each line in target text \n",
    "    for i in range(len(text_data)): \n",
    "        \n",
    "        if text_data[i].startswith(ID_STR):\n",
    "            # when the line is the ###, this is the start of sentence\n",
    "            sentence_id = text_data[i][len(ID_STR):].rstrip(RETURN)  \n",
    "        elif text_data[i] == RETURN:\n",
    "            # when the line is the end of sentence.\n",
    "            # set all data into return value\n",
    "            for line in line_text:\n",
    "                line_data = {}\n",
    "                line_data[LABEL_ID] = line[LABEL_ID]\n",
    "                line_data[LABEL_LINE_NUM] = line[LABEL_LINE_NUM]\n",
    "                line_data[LABEL_TYPE] = line[LABEL_TYPE]\n",
    "                line_data[LABEL_TEXT] = line[LABEL_TEXT]\n",
    "                line_data[LABEL_TOTAL_LINE_NUM] = line_total\n",
    "                train_text.append(line_data)\n",
    "            \n",
    "            # reset line counts\n",
    "            line_index = 0\n",
    "            line_total = 0\n",
    "            line_text = []\n",
    "            \n",
    "        else:\n",
    "            # when the line is sentence to read\n",
    "            row_data = {}  # the line data\n",
    "            row_data[LABEL_ID] = id_num if id_num != '' else \"Nan\"  # ID\n",
    "            row_data[LABEL_LINE_NUM] = line_index  # line_number\n",
    "            row_data[LABEL_TYPE] = text_data[i].rstrip(RETURN).split(TAB)[0]  # discourse_type\n",
    "            row_data[LABEL_TEXT] = text_data[i].rstrip(RETURN).split(TAB)[1]  # discourse_text\n",
    "            line_text.append(row_data)  # add to each line data\n",
    "            \n",
    "            line_index += 1 # add line number\n",
    "            line_total += 1 # add line cout\n",
    "            \n",
    "    # set the rest lines\n",
    "    for line in line_text:\n",
    "        line_data = {}\n",
    "        line_data[LABEL_ID] = line[LABEL_ID]\n",
    "        line_data[LABEL_LINE_NUM] = line[LABEL_LINE_NUM]\n",
    "        line_data[LABEL_TYPE] = line[LABEL_TYPE]\n",
    "        line_data[LABEL_TEXT] = line[LABEL_TEXT]\n",
    "        line_data[LABEL_TOTAL_LINE_NUM] = line_total\n",
    "        train_text.append(line_data)\n",
    "    \n",
    "    return train_text"
   ]
  },
  {
   "cell_type": "code",
   "execution_count": 61,
   "id": "74e40631",
   "metadata": {},
   "outputs": [],
   "source": [
    "# make csv dir\n",
    "os.makedirs('dataset/csv/', exist_ok=True)"
   ]
  },
  {
   "cell_type": "code",
   "execution_count": 72,
   "id": "bd648e98",
   "metadata": {},
   "outputs": [
    {
     "name": "stdout",
     "output_type": "stream",
     "text": [
      "Wall time: 5.77 s\n"
     ]
    }
   ],
   "source": [
    "%%time\n",
    "for txt_file in (DEV_TXT, TEST_TXT, TRAIN_TXT):\n",
    "    with open(os.path.join(DIR_20K, txt_file), 'r') as f:\n",
    "        pd_data = pd.json_normalize(create_dataset(f.readlines()))\n",
    "        pd_data.to_csv('dataset/csv/' + txt_file.replace('.txt', '.csv'))\n"
   ]
  }
 ],
 "metadata": {
  "kernelspec": {
   "display_name": "Python 3",
   "language": "python",
   "name": "python3"
  },
  "language_info": {
   "codemirror_mode": {
    "name": "ipython",
    "version": 3
   },
   "file_extension": ".py",
   "mimetype": "text/x-python",
   "name": "python",
   "nbconvert_exporter": "python",
   "pygments_lexer": "ipython3",
   "version": "3.8.8"
  }
 },
 "nbformat": 4,
 "nbformat_minor": 5
}
